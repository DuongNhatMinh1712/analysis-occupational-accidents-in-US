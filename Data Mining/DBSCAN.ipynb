{
  "nbformat": 4,
  "nbformat_minor": 0,
  "metadata": {
    "colab": {
      "provenance": []
    },
    "kernelspec": {
      "name": "python3",
      "display_name": "Python 3"
    },
    "language_info": {
      "name": "python"
    }
  },
  "cells": [
    {
      "cell_type": "code",
      "source": [
        "import numpy as np\n",
        "import matplotlib.pyplot as plt\n",
        "import pandas as pd\n",
        "data = pd.read_csv(\"Dataset.csv\")"
      ],
      "metadata": {
        "id": "XJ-v9gm35_mI"
      },
      "execution_count": null,
      "outputs": []
    },
    {
      "cell_type": "code",
      "source": [
        "print(\"Dataset shape:\", data.shape)"
      ],
      "metadata": {
        "colab": {
          "base_uri": "https://localhost:8080/"
        },
        "id": "kTgE6-fs6G9Y",
        "outputId": "78aa989b-f5cc-4abc-a528-1f7c5b324b47"
      },
      "execution_count": null,
      "outputs": [
        {
          "output_type": "stream",
          "name": "stdout",
          "text": [
            "Dataset shape: (5000, 33)\n"
          ]
        }
      ]
    },
    {
      "cell_type": "code",
      "source": [
        "data.isnull().any().any()"
      ],
      "metadata": {
        "colab": {
          "base_uri": "https://localhost:8080/"
        },
        "id": "8dqZR-al6L5R",
        "outputId": "eba70bd5-286b-4b79-9750-4e3972b91626"
      },
      "execution_count": null,
      "outputs": [
        {
          "output_type": "execute_result",
          "data": {
            "text/plain": [
              "True"
            ]
          },
          "metadata": {},
          "execution_count": 3
        }
      ]
    },
    {
      "cell_type": "code",
      "source": [
        "null_cols = [i for i in data.columns if data[i].isnull().any()]\n",
        "print(null_cols)"
      ],
      "metadata": {
        "colab": {
          "base_uri": "https://localhost:8080/"
        },
        "outputId": "0d6ba6ba-29fa-4552-adad-99019bf9ba43",
        "id": "7ckX52ZF6hxM"
      },
      "execution_count": null,
      "outputs": [
        {
          "output_type": "stream",
          "name": "stdout",
          "text": [
            "['company_name', 'ein', 'industry_description', 'establishment_type', 'change_reason', 'delete']\n"
          ]
        }
      ]
    },
    {
      "cell_type": "code",
      "source": [
        "cols_drop = ['company_name', 'ein', 'industry_description', 'establishment_type', 'change_reason', 'delete']\n",
        "data = data.drop(cols_drop, axis=1)"
      ],
      "metadata": {
        "id": "OZ3OsIZE6hxN"
      },
      "execution_count": null,
      "outputs": []
    },
    {
      "cell_type": "code",
      "source": [
        "data = data.dropna()\n",
        "data"
      ],
      "metadata": {
        "colab": {
          "base_uri": "https://localhost:8080/",
          "height": 834
        },
        "id": "bVfAh2At6hxN",
        "outputId": "ef845d16-d340-480f-aea2-812fdc6dd1e4"
      },
      "execution_count": null,
      "outputs": [
        {
          "output_type": "execute_result",
          "data": {
            "text/plain": [
              "        id                   establishment_name       street_address  \\\n",
              "0        4                       McKamish  Inc.       50 55th Street   \n",
              "1        5                 The Hinckley Company    40 Industrial Way   \n",
              "2        6           Williamsburg Manufacturing    408 Maplewood Ave   \n",
              "3        7                   Morris Yachts  LLC         27 Ramp Road   \n",
              "4        8                     Hunt Yachts  LLC   1909 Alden Landing   \n",
              "...    ...                                  ...                  ...   \n",
              "4995  5004                        Owen Building          225 N Adams   \n",
              "4996  5005                       Parks/Forestry       1309 W Central   \n",
              "4997  5006  Food Bank of South Central Michigan       5451 Wayne Rd.   \n",
              "4998  5007        Londonderry Freezer Warehouse  219 Rockingham Road   \n",
              "4999  5008                                 Road       1281 W Central   \n",
              "\n",
              "              city state  zip_code  naics_code  annual_average_employees  \\\n",
              "0       Pittsburgh    PA     15201      238220                       280   \n",
              "1          Trenton    ME      4605      336612                       246   \n",
              "2     Williamsburg    IA     52361      336370                       273   \n",
              "3          Trenton    ME      4605      336612                        33   \n",
              "4       Portsmouth    RI      2871      336612                        43   \n",
              "...            ...   ...       ...         ...                       ...   \n",
              "4995      Coquille    OR     97423      925120                         5   \n",
              "4996      Coquille    OR     97423      924120                        13   \n",
              "4997  Battle Creek    MI     49037      624210                        26   \n",
              "4998   Londonderry    NH      3353      493120                        22   \n",
              "4999      Coquille    OR     97423      237310                        25   \n",
              "\n",
              "      total_hours_worked  no_injuries_illnesses  ...  total_poisonings  \\\n",
              "0                 579688                      1  ...                 0   \n",
              "1                 501578                      1  ...                 0   \n",
              "2                 619945                      1  ...                 0   \n",
              "3                  75794                      1  ...                 0   \n",
              "4                 114734                      1  ...                 0   \n",
              "...                  ...                    ...  ...               ...   \n",
              "4995               10400                      2  ...                 0   \n",
              "4996               27040                      1  ...                 0   \n",
              "4997               34006                      1  ...                 0   \n",
              "4998               44888                      1  ...                 0   \n",
              "4999               52000                      1  ...                 0   \n",
              "\n",
              "      total_respiratory_conditions  total_skin_disorders  total_hearing_loss  \\\n",
              "0                                0                     0                   0   \n",
              "1                                0                     0                   0   \n",
              "2                                0                     0                   0   \n",
              "3                                0                     0                   0   \n",
              "4                                0                     0                   0   \n",
              "...                            ...                   ...                 ...   \n",
              "4995                             0                     0                   0   \n",
              "4996                             0                     0                   2   \n",
              "4997                             0                     0                   0   \n",
              "4998                             0                     0                   0   \n",
              "4999                             0                     1                   4   \n",
              "\n",
              "      total_other_illnesses  establishment_id  size  year_filing_for  \\\n",
              "0                         0             41920     3             2016   \n",
              "1                         0             41922     3             2016   \n",
              "2                         0             41923     3             2016   \n",
              "3                         0             41925     2             2016   \n",
              "4                         0             41926     2             2016   \n",
              "...                     ...               ...   ...              ...   \n",
              "4995                      0             48302     3             2016   \n",
              "4996                      0             48303     3             2016   \n",
              "4997                      0             48301     2             2016   \n",
              "4998                      0             47935     2             2016   \n",
              "4999                      0             48306     3             2016   \n",
              "\n",
              "      created_timestamp                source  \n",
              "0         8/1/2017 6:12  ITA Data CY 2016.csv  \n",
              "1         8/1/2017 6:23  ITA Data CY 2016.csv  \n",
              "2         8/1/2017 6:27  ITA Data CY 2016.csv  \n",
              "3         8/1/2017 6:36  ITA Data CY 2016.csv  \n",
              "4         8/1/2017 6:35  ITA Data CY 2016.csv  \n",
              "...                 ...                   ...  \n",
              "4995    8/11/2017 11:56  ITA Data CY 2016.csv  \n",
              "4996    8/11/2017 11:58  ITA Data CY 2016.csv  \n",
              "4997    8/11/2017 12:02  ITA Data CY 2016.csv  \n",
              "4998    8/11/2017 12:05  ITA Data CY 2016.csv  \n",
              "4999    8/11/2017 12:07  ITA Data CY 2016.csv  \n",
              "\n",
              "[5000 rows x 27 columns]"
            ],
            "text/html": [
              "\n",
              "  <div id=\"df-00d6740b-0070-47fa-866d-55638376740e\">\n",
              "    <div class=\"colab-df-container\">\n",
              "      <div>\n",
              "<style scoped>\n",
              "    .dataframe tbody tr th:only-of-type {\n",
              "        vertical-align: middle;\n",
              "    }\n",
              "\n",
              "    .dataframe tbody tr th {\n",
              "        vertical-align: top;\n",
              "    }\n",
              "\n",
              "    .dataframe thead th {\n",
              "        text-align: right;\n",
              "    }\n",
              "</style>\n",
              "<table border=\"1\" class=\"dataframe\">\n",
              "  <thead>\n",
              "    <tr style=\"text-align: right;\">\n",
              "      <th></th>\n",
              "      <th>id</th>\n",
              "      <th>establishment_name</th>\n",
              "      <th>street_address</th>\n",
              "      <th>city</th>\n",
              "      <th>state</th>\n",
              "      <th>zip_code</th>\n",
              "      <th>naics_code</th>\n",
              "      <th>annual_average_employees</th>\n",
              "      <th>total_hours_worked</th>\n",
              "      <th>no_injuries_illnesses</th>\n",
              "      <th>...</th>\n",
              "      <th>total_poisonings</th>\n",
              "      <th>total_respiratory_conditions</th>\n",
              "      <th>total_skin_disorders</th>\n",
              "      <th>total_hearing_loss</th>\n",
              "      <th>total_other_illnesses</th>\n",
              "      <th>establishment_id</th>\n",
              "      <th>size</th>\n",
              "      <th>year_filing_for</th>\n",
              "      <th>created_timestamp</th>\n",
              "      <th>source</th>\n",
              "    </tr>\n",
              "  </thead>\n",
              "  <tbody>\n",
              "    <tr>\n",
              "      <th>0</th>\n",
              "      <td>4</td>\n",
              "      <td>McKamish  Inc.</td>\n",
              "      <td>50 55th Street</td>\n",
              "      <td>Pittsburgh</td>\n",
              "      <td>PA</td>\n",
              "      <td>15201</td>\n",
              "      <td>238220</td>\n",
              "      <td>280</td>\n",
              "      <td>579688</td>\n",
              "      <td>1</td>\n",
              "      <td>...</td>\n",
              "      <td>0</td>\n",
              "      <td>0</td>\n",
              "      <td>0</td>\n",
              "      <td>0</td>\n",
              "      <td>0</td>\n",
              "      <td>41920</td>\n",
              "      <td>3</td>\n",
              "      <td>2016</td>\n",
              "      <td>8/1/2017 6:12</td>\n",
              "      <td>ITA Data CY 2016.csv</td>\n",
              "    </tr>\n",
              "    <tr>\n",
              "      <th>1</th>\n",
              "      <td>5</td>\n",
              "      <td>The Hinckley Company</td>\n",
              "      <td>40 Industrial Way</td>\n",
              "      <td>Trenton</td>\n",
              "      <td>ME</td>\n",
              "      <td>4605</td>\n",
              "      <td>336612</td>\n",
              "      <td>246</td>\n",
              "      <td>501578</td>\n",
              "      <td>1</td>\n",
              "      <td>...</td>\n",
              "      <td>0</td>\n",
              "      <td>0</td>\n",
              "      <td>0</td>\n",
              "      <td>0</td>\n",
              "      <td>0</td>\n",
              "      <td>41922</td>\n",
              "      <td>3</td>\n",
              "      <td>2016</td>\n",
              "      <td>8/1/2017 6:23</td>\n",
              "      <td>ITA Data CY 2016.csv</td>\n",
              "    </tr>\n",
              "    <tr>\n",
              "      <th>2</th>\n",
              "      <td>6</td>\n",
              "      <td>Williamsburg Manufacturing</td>\n",
              "      <td>408 Maplewood Ave</td>\n",
              "      <td>Williamsburg</td>\n",
              "      <td>IA</td>\n",
              "      <td>52361</td>\n",
              "      <td>336370</td>\n",
              "      <td>273</td>\n",
              "      <td>619945</td>\n",
              "      <td>1</td>\n",
              "      <td>...</td>\n",
              "      <td>0</td>\n",
              "      <td>0</td>\n",
              "      <td>0</td>\n",
              "      <td>0</td>\n",
              "      <td>0</td>\n",
              "      <td>41923</td>\n",
              "      <td>3</td>\n",
              "      <td>2016</td>\n",
              "      <td>8/1/2017 6:27</td>\n",
              "      <td>ITA Data CY 2016.csv</td>\n",
              "    </tr>\n",
              "    <tr>\n",
              "      <th>3</th>\n",
              "      <td>7</td>\n",
              "      <td>Morris Yachts  LLC</td>\n",
              "      <td>27 Ramp Road</td>\n",
              "      <td>Trenton</td>\n",
              "      <td>ME</td>\n",
              "      <td>4605</td>\n",
              "      <td>336612</td>\n",
              "      <td>33</td>\n",
              "      <td>75794</td>\n",
              "      <td>1</td>\n",
              "      <td>...</td>\n",
              "      <td>0</td>\n",
              "      <td>0</td>\n",
              "      <td>0</td>\n",
              "      <td>0</td>\n",
              "      <td>0</td>\n",
              "      <td>41925</td>\n",
              "      <td>2</td>\n",
              "      <td>2016</td>\n",
              "      <td>8/1/2017 6:36</td>\n",
              "      <td>ITA Data CY 2016.csv</td>\n",
              "    </tr>\n",
              "    <tr>\n",
              "      <th>4</th>\n",
              "      <td>8</td>\n",
              "      <td>Hunt Yachts  LLC</td>\n",
              "      <td>1909 Alden Landing</td>\n",
              "      <td>Portsmouth</td>\n",
              "      <td>RI</td>\n",
              "      <td>2871</td>\n",
              "      <td>336612</td>\n",
              "      <td>43</td>\n",
              "      <td>114734</td>\n",
              "      <td>1</td>\n",
              "      <td>...</td>\n",
              "      <td>0</td>\n",
              "      <td>0</td>\n",
              "      <td>0</td>\n",
              "      <td>0</td>\n",
              "      <td>0</td>\n",
              "      <td>41926</td>\n",
              "      <td>2</td>\n",
              "      <td>2016</td>\n",
              "      <td>8/1/2017 6:35</td>\n",
              "      <td>ITA Data CY 2016.csv</td>\n",
              "    </tr>\n",
              "    <tr>\n",
              "      <th>...</th>\n",
              "      <td>...</td>\n",
              "      <td>...</td>\n",
              "      <td>...</td>\n",
              "      <td>...</td>\n",
              "      <td>...</td>\n",
              "      <td>...</td>\n",
              "      <td>...</td>\n",
              "      <td>...</td>\n",
              "      <td>...</td>\n",
              "      <td>...</td>\n",
              "      <td>...</td>\n",
              "      <td>...</td>\n",
              "      <td>...</td>\n",
              "      <td>...</td>\n",
              "      <td>...</td>\n",
              "      <td>...</td>\n",
              "      <td>...</td>\n",
              "      <td>...</td>\n",
              "      <td>...</td>\n",
              "      <td>...</td>\n",
              "      <td>...</td>\n",
              "    </tr>\n",
              "    <tr>\n",
              "      <th>4995</th>\n",
              "      <td>5004</td>\n",
              "      <td>Owen Building</td>\n",
              "      <td>225 N Adams</td>\n",
              "      <td>Coquille</td>\n",
              "      <td>OR</td>\n",
              "      <td>97423</td>\n",
              "      <td>925120</td>\n",
              "      <td>5</td>\n",
              "      <td>10400</td>\n",
              "      <td>2</td>\n",
              "      <td>...</td>\n",
              "      <td>0</td>\n",
              "      <td>0</td>\n",
              "      <td>0</td>\n",
              "      <td>0</td>\n",
              "      <td>0</td>\n",
              "      <td>48302</td>\n",
              "      <td>3</td>\n",
              "      <td>2016</td>\n",
              "      <td>8/11/2017 11:56</td>\n",
              "      <td>ITA Data CY 2016.csv</td>\n",
              "    </tr>\n",
              "    <tr>\n",
              "      <th>4996</th>\n",
              "      <td>5005</td>\n",
              "      <td>Parks/Forestry</td>\n",
              "      <td>1309 W Central</td>\n",
              "      <td>Coquille</td>\n",
              "      <td>OR</td>\n",
              "      <td>97423</td>\n",
              "      <td>924120</td>\n",
              "      <td>13</td>\n",
              "      <td>27040</td>\n",
              "      <td>1</td>\n",
              "      <td>...</td>\n",
              "      <td>0</td>\n",
              "      <td>0</td>\n",
              "      <td>0</td>\n",
              "      <td>2</td>\n",
              "      <td>0</td>\n",
              "      <td>48303</td>\n",
              "      <td>3</td>\n",
              "      <td>2016</td>\n",
              "      <td>8/11/2017 11:58</td>\n",
              "      <td>ITA Data CY 2016.csv</td>\n",
              "    </tr>\n",
              "    <tr>\n",
              "      <th>4997</th>\n",
              "      <td>5006</td>\n",
              "      <td>Food Bank of South Central Michigan</td>\n",
              "      <td>5451 Wayne Rd.</td>\n",
              "      <td>Battle Creek</td>\n",
              "      <td>MI</td>\n",
              "      <td>49037</td>\n",
              "      <td>624210</td>\n",
              "      <td>26</td>\n",
              "      <td>34006</td>\n",
              "      <td>1</td>\n",
              "      <td>...</td>\n",
              "      <td>0</td>\n",
              "      <td>0</td>\n",
              "      <td>0</td>\n",
              "      <td>0</td>\n",
              "      <td>0</td>\n",
              "      <td>48301</td>\n",
              "      <td>2</td>\n",
              "      <td>2016</td>\n",
              "      <td>8/11/2017 12:02</td>\n",
              "      <td>ITA Data CY 2016.csv</td>\n",
              "    </tr>\n",
              "    <tr>\n",
              "      <th>4998</th>\n",
              "      <td>5007</td>\n",
              "      <td>Londonderry Freezer Warehouse</td>\n",
              "      <td>219 Rockingham Road</td>\n",
              "      <td>Londonderry</td>\n",
              "      <td>NH</td>\n",
              "      <td>3353</td>\n",
              "      <td>493120</td>\n",
              "      <td>22</td>\n",
              "      <td>44888</td>\n",
              "      <td>1</td>\n",
              "      <td>...</td>\n",
              "      <td>0</td>\n",
              "      <td>0</td>\n",
              "      <td>0</td>\n",
              "      <td>0</td>\n",
              "      <td>0</td>\n",
              "      <td>47935</td>\n",
              "      <td>2</td>\n",
              "      <td>2016</td>\n",
              "      <td>8/11/2017 12:05</td>\n",
              "      <td>ITA Data CY 2016.csv</td>\n",
              "    </tr>\n",
              "    <tr>\n",
              "      <th>4999</th>\n",
              "      <td>5008</td>\n",
              "      <td>Road</td>\n",
              "      <td>1281 W Central</td>\n",
              "      <td>Coquille</td>\n",
              "      <td>OR</td>\n",
              "      <td>97423</td>\n",
              "      <td>237310</td>\n",
              "      <td>25</td>\n",
              "      <td>52000</td>\n",
              "      <td>1</td>\n",
              "      <td>...</td>\n",
              "      <td>0</td>\n",
              "      <td>0</td>\n",
              "      <td>1</td>\n",
              "      <td>4</td>\n",
              "      <td>0</td>\n",
              "      <td>48306</td>\n",
              "      <td>3</td>\n",
              "      <td>2016</td>\n",
              "      <td>8/11/2017 12:07</td>\n",
              "      <td>ITA Data CY 2016.csv</td>\n",
              "    </tr>\n",
              "  </tbody>\n",
              "</table>\n",
              "<p>5000 rows × 27 columns</p>\n",
              "</div>\n",
              "      <button class=\"colab-df-convert\" onclick=\"convertToInteractive('df-00d6740b-0070-47fa-866d-55638376740e')\"\n",
              "              title=\"Convert this dataframe to an interactive table.\"\n",
              "              style=\"display:none;\">\n",
              "        \n",
              "  <svg xmlns=\"http://www.w3.org/2000/svg\" height=\"24px\"viewBox=\"0 0 24 24\"\n",
              "       width=\"24px\">\n",
              "    <path d=\"M0 0h24v24H0V0z\" fill=\"none\"/>\n",
              "    <path d=\"M18.56 5.44l.94 2.06.94-2.06 2.06-.94-2.06-.94-.94-2.06-.94 2.06-2.06.94zm-11 1L8.5 8.5l.94-2.06 2.06-.94-2.06-.94L8.5 2.5l-.94 2.06-2.06.94zm10 10l.94 2.06.94-2.06 2.06-.94-2.06-.94-.94-2.06-.94 2.06-2.06.94z\"/><path d=\"M17.41 7.96l-1.37-1.37c-.4-.4-.92-.59-1.43-.59-.52 0-1.04.2-1.43.59L10.3 9.45l-7.72 7.72c-.78.78-.78 2.05 0 2.83L4 21.41c.39.39.9.59 1.41.59.51 0 1.02-.2 1.41-.59l7.78-7.78 2.81-2.81c.8-.78.8-2.07 0-2.86zM5.41 20L4 18.59l7.72-7.72 1.47 1.35L5.41 20z\"/>\n",
              "  </svg>\n",
              "      </button>\n",
              "      \n",
              "  <style>\n",
              "    .colab-df-container {\n",
              "      display:flex;\n",
              "      flex-wrap:wrap;\n",
              "      gap: 12px;\n",
              "    }\n",
              "\n",
              "    .colab-df-convert {\n",
              "      background-color: #E8F0FE;\n",
              "      border: none;\n",
              "      border-radius: 50%;\n",
              "      cursor: pointer;\n",
              "      display: none;\n",
              "      fill: #1967D2;\n",
              "      height: 32px;\n",
              "      padding: 0 0 0 0;\n",
              "      width: 32px;\n",
              "    }\n",
              "\n",
              "    .colab-df-convert:hover {\n",
              "      background-color: #E2EBFA;\n",
              "      box-shadow: 0px 1px 2px rgba(60, 64, 67, 0.3), 0px 1px 3px 1px rgba(60, 64, 67, 0.15);\n",
              "      fill: #174EA6;\n",
              "    }\n",
              "\n",
              "    [theme=dark] .colab-df-convert {\n",
              "      background-color: #3B4455;\n",
              "      fill: #D2E3FC;\n",
              "    }\n",
              "\n",
              "    [theme=dark] .colab-df-convert:hover {\n",
              "      background-color: #434B5C;\n",
              "      box-shadow: 0px 1px 3px 1px rgba(0, 0, 0, 0.15);\n",
              "      filter: drop-shadow(0px 1px 2px rgba(0, 0, 0, 0.3));\n",
              "      fill: #FFFFFF;\n",
              "    }\n",
              "  </style>\n",
              "\n",
              "      <script>\n",
              "        const buttonEl =\n",
              "          document.querySelector('#df-00d6740b-0070-47fa-866d-55638376740e button.colab-df-convert');\n",
              "        buttonEl.style.display =\n",
              "          google.colab.kernel.accessAllowed ? 'block' : 'none';\n",
              "\n",
              "        async function convertToInteractive(key) {\n",
              "          const element = document.querySelector('#df-00d6740b-0070-47fa-866d-55638376740e');\n",
              "          const dataTable =\n",
              "            await google.colab.kernel.invokeFunction('convertToInteractive',\n",
              "                                                     [key], {});\n",
              "          if (!dataTable) return;\n",
              "\n",
              "          const docLinkHtml = 'Like what you see? Visit the ' +\n",
              "            '<a target=\"_blank\" href=https://colab.research.google.com/notebooks/data_table.ipynb>data table notebook</a>'\n",
              "            + ' to learn more about interactive tables.';\n",
              "          element.innerHTML = '';\n",
              "          dataTable['output_type'] = 'display_data';\n",
              "          await google.colab.output.renderOutput(dataTable, element);\n",
              "          const docLink = document.createElement('div');\n",
              "          docLink.innerHTML = docLinkHtml;\n",
              "          element.appendChild(docLink);\n",
              "        }\n",
              "      </script>\n",
              "    </div>\n",
              "  </div>\n",
              "  "
            ]
          },
          "metadata": {},
          "execution_count": 6
        }
      ]
    },
    {
      "cell_type": "code",
      "source": [
        "x = data.loc[:, ['total_deaths',\n",
        "                 'total_injuries']].values"
      ],
      "metadata": {
        "id": "_tI-DsOj6m0y"
      },
      "execution_count": null,
      "outputs": []
    },
    {
      "cell_type": "code",
      "source": [
        "print(x.shape)"
      ],
      "metadata": {
        "colab": {
          "base_uri": "https://localhost:8080/"
        },
        "id": "SLUy8rLk6_vS",
        "outputId": "543cd501-510d-459a-ffa5-567a71d00961"
      },
      "execution_count": null,
      "outputs": [
        {
          "output_type": "stream",
          "name": "stdout",
          "text": [
            "(5000, 2)\n"
          ]
        }
      ]
    },
    {
      "cell_type": "code",
      "source": [
        "from sklearn.neighbors import NearestNeighbors\n",
        "neighb = NearestNeighbors(n_neighbors=2)\n",
        "nbrs=neighb.fit(x)\n",
        "distances,indices=nbrs.kneighbors(x)"
      ],
      "metadata": {
        "id": "d153mf5s7CM4"
      },
      "execution_count": null,
      "outputs": []
    },
    {
      "cell_type": "code",
      "source": [
        "distances = np.sort(distances, axis = 0) # sorting the distances\n",
        "distances = distances[:, 1] # taking the second column of the sorted distances\n",
        "plt.rcParams['figure.figsize'] = (5,3) # setting the figure size\n",
        "plt.plot(distances) # plotting the distances\n",
        "plt.show()"
      ],
      "metadata": {
        "colab": {
          "base_uri": "https://localhost:8080/",
          "height": 293
        },
        "id": "sPNbEJm57YNd",
        "outputId": "e16d4b7e-6f39-40a5-b054-b09fe83a0f38"
      },
      "execution_count": null,
      "outputs": [
        {
          "output_type": "display_data",
          "data": {
            "text/plain": [
              "<Figure size 500x300 with 1 Axes>"
            ],
            "image/png": "[encoded data removed]"
          },
          "metadata": {}
        }
      ]
    },
    {
      "cell_type": "code",
      "source": [
        "from sklearn.cluster import DBSCAN\n",
        "dbscan = DBSCAN(eps = 1, min_samples = 4).fit(x)\n",
        "labels = dbscan.labels_"
      ],
      "metadata": {
        "id": "pw7dODZI7ld5"
      },
      "execution_count": null,
      "outputs": []
    },
    {
      "cell_type": "code",
      "source": [
        "unique_values, counts = np.unique(labels, return_counts= True)\n",
        "print(\"Tập nhãn cụm đã xuất hiện:\", unique_values)\n",
        "print(\"Số lượng các nhãn cụm đã xuất hiện:\", counts)"
      ],
      "metadata": {
        "colab": {
          "base_uri": "https://localhost:8080/"
        },
        "id": "rYWCDJoPAUx6",
        "outputId": "82fd2271-8faa-412b-f4a6-e6fed97ca9d3"
      },
      "execution_count": null,
      "outputs": [
        {
          "output_type": "stream",
          "name": "stdout",
          "text": [
            "Tập nhãn cụm đã xuất hiện: [-1  0  1  2  3  4]\n",
            "Số lượng các nhãn cụm đã xuất hiện: [  34 4935    4    6   12    9]\n"
          ]
        }
      ]
    },
    {
      "cell_type": "code",
      "source": [
        "unique_values, counts = np.unique(labels, return_counts= True)\n",
        "plt.bar(unique_values, counts)\n",
        "plt.xlabel('Nhãn cụm')\n",
        "plt.ylabel('Số lần')\n",
        "plt.title('Biểu đồ phân phối cụm')\n",
        "plt.show()"
      ],
      "metadata": {
        "colab": {
          "base_uri": "https://localhost:8080/",
          "height": 335
        },
        "id": "xrZMz9FF8Erj",
        "outputId": "669f24f7-660d-483d-eb44-08e4a421e227"
      },
      "execution_count": null,
      "outputs": [
        {
          "output_type": "display_data",
          "data": {
            "text/plain": [
              "<Figure size 500x300 with 1 Axes>"
            ],
            "image/png": "[encoded data removed]"
          },
          "metadata": {}
        }
      ]
    },
    {
      "cell_type": "code",
      "source": [
        "plt.scatter(data['total_deaths'], data['total_injuries'], c = labels)\n",
        "plt.ylabel('total injuries')\n",
        "plt.xlabel('total deaths')\n",
        "plt.title(\"Kết quả phân cụm DBSCAN\")\n",
        "plt.colorbar(label='Cụm')\n",
        "plt.show()"
      ],
      "metadata": {
        "colab": {
          "base_uri": "https://localhost:8080/",
          "height": 335
        },
        "id": "EYxqfnhHFjoO",
        "outputId": "b66a7716-6dcf-4936-dc52-0d7ab313b2c0"
      },
      "execution_count": null,
      "outputs": [
        {
          "output_type": "display_data",
          "data": {
            "text/plain": [
              "<Figure size 500x300 with 2 Axes>"
            ],
            "image/png": "[encoded data removed]"
          },
          "metadata": {}
        }
      ]
    },
    {
      "cell_type": "code",
      "source": [
        "x = [5, 10, 15, 20, 25, 30, 35, 40]\n",
        "y = [10, 20, 30, 40, 50, 60, 70, 80]\n"
      ],
      "metadata": {
        "id": "UuhYpz8m-3l2"
      },
      "execution_count": null,
      "outputs": []
    },
    {
      "cell_type": "code",
      "source": [
        "data = pd.DataFrame({'Total Deaths': x, 'Total Injuries': y})"
      ],
      "metadata": {
        "id": "lrau-yRz_KSc"
      },
      "execution_count": null,
      "outputs": []
    },
    {
      "cell_type": "code",
      "source": [
        "from sklearn.preprocessing import StandardScaler\n",
        "scaler = StandardScaler()\n",
        "scaled_data = scaler.fit_transform(data)\n"
      ],
      "metadata": {
        "id": "7TeNHGp9_P2X"
      },
      "execution_count": null,
      "outputs": []
    },
    {
      "cell_type": "code",
      "source": [
        "dbscan = DBSCAN(eps=1, min_samples=4)\n",
        "clusters = dbscan.fit_predict(scaled_data)"
      ],
      "metadata": {
        "id": "UI7NrRiY_RpS"
      },
      "execution_count": null,
      "outputs": []
    },
    {
      "cell_type": "code",
      "source": [
        "data['Cluster'] = clusters"
      ],
      "metadata": {
        "id": "VuV7dFL8_W0y"
      },
      "execution_count": null,
      "outputs": []
    },
    {
      "cell_type": "code",
      "source": [
        "plt.scatter(data['Total Deaths'], data['Total Injuries'], c = clusters)\n",
        "plt.ylabel('total injuries')\n",
        "plt.xlabel('total deaths')\n",
        "plt.title(\"Kết quả phân cụm DBSCAN\")\n",
        "plt.colorbar(label='Cụm')\n",
        "plt.show()"
      ],
      "metadata": {
        "colab": {
          "base_uri": "https://localhost:8080/",
          "height": 335
        },
        "id": "_XA65-7u_dCG",
        "outputId": "ac30ba34-b8ef-4936-fe25-fab9e10acf86"
      },
      "execution_count": null,
      "outputs": [
        {
          "output_type": "display_data",
          "data": {
            "text/plain": [
              "<Figure size 500x300 with 2 Axes>"
            ],
            "image/png": "[encoded data removed]"
          },
          "metadata": {}
        }
      ]
    }
  ]
}